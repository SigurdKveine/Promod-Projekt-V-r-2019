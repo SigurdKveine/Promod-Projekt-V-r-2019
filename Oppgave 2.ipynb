{
 "cells": [
  {
   "cell_type": "markdown",
   "metadata": {},
   "source": [
    "# Oppgave 2 - Bæreevne"
   ]
  },
  {
   "cell_type": "code",
   "execution_count": 2,
   "metadata": {
    "scrolled": true
   },
   "outputs": [
    {
     "data": {
      "image/png": "[encoded data removed]",
      "text/plain": [
       "<Figure size 432x288 with 1 Axes>"
      ]
     },
     "metadata": {},
     "output_type": "display_data"
    }
   ],
   "source": [
    "from pylab import*\n",
    "#Tid og steg\n",
    "\n",
    "N = 10000    #Antall ganger løkka skal kjøre\n",
    "tid = 104   #Antall tid i uker \n",
    "dt = tid/N    #Antall uker pergang løkka kjører\n",
    "\n",
    "\n",
    "#Konstanter\n",
    "\n",
    "t0 = 0 #Startstid\n",
    "a = 0.02 #Fødselrate\n",
    "b = 1200 #Bæereevnen\n",
    "p = 0.269 #Innvandringsendring konstant\n",
    "c0 = 500 #Befolkningen til å starte med\n",
    "\n",
    "\n",
    "#Matriser\n",
    "\n",
    "c = zeros(N)   #Matrise for befolkningen\n",
    "cder = zeros(N)  #Matrise for endring i befolkningen\n",
    "t = zeros(N)    #Matrise for tid\n",
    "\n",
    "#Initialbetingelser \n",
    "\n",
    "c[0] = c0\n",
    "t[0] = t0\n",
    "\n",
    "#Eulers Metode\n",
    "\n",
    "for i in range(N-1):\n",
    "    if t[i] < 52:\n",
    "        u = 15-(t[i]*p) #Funksjon for innvandring\n",
    "    else:\n",
    "        u = 1 \n",
    "    if c[i] < b: #Hindrer innvandring etter at bæreevnen er nådd.\n",
    "        cder[i] = a*c[i]*(1-(c[i]/b))+u #Setter inn bæreevnen.\n",
    "    else:\n",
    "        cder[i] = a*c[i]*(1-(c[i]/b))\n",
    "    c[i+1] = c[i] + cder[i]*dt\n",
    "    t[i+1] = t[i]+dt\n",
    "    \n",
    "#Plotting\n",
    "\n",
    "plot(t,c)\n",
    "xlabel(\"Uker\")\n",
    "ylabel(\"Befolkning\")\n",
    "show()"
   ]
  },
  {
   "cell_type": "markdown",
   "metadata": {},
   "source": [
    "Populasjonsdynamikken vil straks endres på når man finner ut av at Alexandria ikke har nok resurser til å ta vare på uendelig mange mennesker. Disse resursene kommer i form av både plass, medisiner, og mat. Koden viser en \"if\" setning som med en gang vil stenge dørene for innvanding etter at bæreevnen er nådd.\n",
    "\n",
    "Vi satt opp bæreevnen på 1200 fordi det virket som en logisk/realistisk grense på hvor mange som kan befinne seg i et lukket samfunn. Bæreevnen viste seg å passe ganske bra med den gitte tiden. Altså, etter ca. 2 år uten noen dødsfall, viser modellen at bæreevnen er nådd."
   ]
  },
  {
   "cell_type": "code",
   "execution_count": null,
   "metadata": {},
   "outputs": [],
   "source": []
  },
  {
   "cell_type": "code",
   "execution_count": null,
   "metadata": {},
   "outputs": [],
   "source": []
  },
  {
   "cell_type": "code",
   "execution_count": null,
   "metadata": {},
   "outputs": [],
   "source": []
  }
 ],
 "metadata": {
  "kernelspec": {
   "display_name": "Python 3",
   "language": "python",
   "name": "python3"
  },
  "language_info": {
   "codemirror_mode": {
    "name": "ipython",
    "version": 3
   },
   "file_extension": ".py",
   "mimetype": "text/x-python",
   "name": "python",
   "nbconvert_exporter": "python",
   "pygments_lexer": "ipython3",
   "version": "3.6.5"
  }
 },
 "nbformat": 4,
 "nbformat_minor": 2
}
