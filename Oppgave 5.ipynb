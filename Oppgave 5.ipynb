{
 "cells": [
  {
   "cell_type": "markdown",
   "metadata": {},
   "source": [
    "# Oppgave 5"
   ]
  },
  {
   "cell_type": "code",
   "execution_count": 54,
   "metadata": {},
   "outputs": [
    {
     "data": {
      "image/png": "[encoded data removed]",
      "text/plain": [
       "<Figure size 432x288 with 1 Axes>"
      ]
     },
     "metadata": {},
     "output_type": "display_data"
    }
   ],
   "source": [
    "from pylab import*\n",
    "#Tid og steg\n",
    "\n",
    "N = 10000    #Antall ganger løkka skal kjøre\n",
    "tid = 2000 #Antall tid i uker\n",
    "dt = tid/N    #Antall uker pr gang løkka kjører\n",
    "\n",
    "\n",
    "#Konstanter\n",
    "\n",
    "a = 0.02 #Fødselrate\n",
    "b = 1200 #Bæereevnen\n",
    "d =  0.017 #Dødsrate\n",
    "p = 0.269 #Innvandringsendringskonstanten\n",
    "g = 0 #Antall mennesker drept av zombier hver måned\n",
    "f = 0.4 #Prosent av mennekser drept som blir til zombier\n",
    "h = 0.5 #Zombiemøtedrapskonstanten\n",
    "t0 = 0 #Startstid\n",
    "c0 = 500 #Befolkningen til å starte med\n",
    "z0 = 800 #Antall zombier til å starte med\n",
    "\n",
    "\n",
    "#Matriser\n",
    "\n",
    "c = zeros(N)   #Matrise for befolkningen\n",
    "cder = zeros(N)  #Matrise for endring i befolkningen\n",
    "t = zeros(N)    #Matrise for tid\n",
    "z = zeros(N)    #Matrise for antall zombier\n",
    "\n",
    "#Initialbetingelser \n",
    "\n",
    "c[0] = c0\n",
    "t[0] = t0\n",
    "z[0] = z0 \n",
    "\n",
    "\n",
    "#Eulers Metode\n",
    "\n",
    "for i in range(N-1):\n",
    "    if t[i]<52:\n",
    "        u = 15-(t[i]*p) #Invandring\n",
    "    else: \n",
    "        u = 1\n",
    "    g = (c[i]/z[i])*h  #Formel for antall mennesker drept\n",
    "    if c[i] < b:\n",
    "        cder[i] = (a*c[i])*(1-(c[i]/b))+u - d*c[i] - g\n",
    "    else:   \n",
    "        cder[i] = (a*c[i])*(1-(c[i]/b)) - d*c[i] - g\n",
    "    c[i+1] = c[i] + cder[i]*dt\n",
    "    z[i+1] = z[i] + g*f*dt\n",
    "    t[i+1] = t[i]+dt\n",
    "    \n",
    "#Plotting\n",
    "\n",
    "plot(t,c)\n",
    "plot(t,z)\n",
    "xlabel(\"Uker\")\n",
    "ylabel(\"Befolkning\")\n",
    "show()"
   ]
  },
  {
   "cell_type": "markdown",
   "metadata": {},
   "source": [
    "Vi har her lagt inn muligheten for at menneskene som blir drept av zombier blir til mennesker. Vi har satt formelen for antall drept til (z[i]/c[i]) * h. Dette ble funnet ved hjelp av algebra, ved at vi så for oss et scenario med 1 zombie og 100 mennesker, der vi ønsket to mennesker drept av denne på en uke. Vi prøvde oss så litt fram, og fant ut at denne formen passet bra. Vi må til senere tilfeller være oppmerksommme på at hvis zombiene blir utryddet, trenger vi en spesifikk kode til dette, men siden zombiene enda ikke kan dø, kan vi ta denne problematikken senere. Denne konstanten er lagt inn i løkka, slik at den oppdateres for hver gang. \n",
    "\n",
    "For å gjøre om fra at zombier bare dreper til at mennesker kan bli til zombier må vi bare gjennom noen få steg. Vi må først legge inn en konstant som sier noe om hvor mange prosent av de som blir drept som blir til Zombier selv, og dette satte vi til 40%, fordi zombiene også kan rive menneskene i stykker slik at de ikke kan bli til mennesker, eller mennesker kan ta livet av slektninger eller venner før de rekker å bli smittet hvis de blir bitt. Vi har her valgt å se over en veldig lang tid, for bedre å vise hvordan utviklingen vil bli. Vi ser her at menneskene stiger til en punkt hvor innvandringen blir så liten at zombiene tar over, for så å gå ned og stabilisere seg. Siden zombiene ikke kan dø i denne modellen, ser vi en økningn gjennom hele modellen. Vi ser en begrensning meg dette, som vil fikses i den neste oppgaven. \n",
    "\n"
   ]
  }
 ],
 "metadata": {
  "kernelspec": {
   "display_name": "Python 3",
   "language": "python",
   "name": "python3"
  },
  "language_info": {
   "codemirror_mode": {
    "name": "ipython",
    "version": 3
   },
   "file_extension": ".py",
   "mimetype": "text/x-python",
   "name": "python",
   "nbconvert_exporter": "python",
   "pygments_lexer": "ipython3",
   "version": "3.6.5"
  }
 },
 "nbformat": 4,
 "nbformat_minor": 2
}
