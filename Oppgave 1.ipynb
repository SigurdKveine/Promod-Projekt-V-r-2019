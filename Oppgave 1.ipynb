{
 "cells": [
  {
   "cell_type": "code",
   "execution_count": 22,
   "metadata": {},
   "outputs": [
    {
     "data": {
      "image/png": "[encoded data removed]",
      "text/plain": [
       "<Figure size 432x288 with 1 Axes>"
      ]
     },
     "metadata": {},
     "output_type": "display_data"
    }
   ],
   "source": [
    "from pylab import*\n",
    "#Tid og steg\n",
    "\n",
    "N = 10000    #Antall ganger løkka skal kjøre\n",
    "tid = 52  #Antall tid i uker\n",
    "dt = tid/N    #Antall uker pr gang løkka kjører\n",
    "\n",
    "#Konstanter\n",
    "\n",
    "a = 0.013 #Fødselrate\n",
    "u = 15 #Invandringkonstant\n",
    "c0 = 500 #Befolkningen til å starte med\n",
    "t0 = 0 #Startstid\n",
    "\n",
    "#Matriser\n",
    "\n",
    "c = zeros(N)   #Matrise for befolkningen\n",
    "cder = zeros(N)  #Matrise for endring i befolkningen\n",
    "t = zeros(N)    #Matrise for tid\n",
    "\n",
    "#Initialbetingelser \n",
    "\n",
    "c[0] = c0\n",
    "t[0] = t0\n",
    "\n",
    "#Eulers Metode\n",
    "\n",
    "for i in range(N-1):\n",
    "    cder[i] = a*c[i]+u\n",
    "    c[i+1] = c[i] + cder[i]*dt\n",
    "    t[i+1] = t[i]+dt\n",
    "    \n",
    "#Plotting\n",
    "\n",
    "plot(t,c)\n",
    "xlabel(\"Uker\")\n",
    "ylabel(\"Befolkning\")\n",
    "show()"
   ]
  },
  {
   "cell_type": "markdown",
   "metadata": {},
   "source": [
    "### Eulers Metode\n",
    "Vi kommer igjennom dette projektet til å bruke Eurlers metode gjentatte ganger, og derfor skal vi begynne med å gjennomgå teorien bak denne. Vi begynner med å fjerne grenseverdien fra definisjonen av den deriverte, og bytte ut h med dt, som er tidssteget ditt. Da får vi dette :\n",
    "![image](Euler 1.png)\n",
    "Vi ganger så med dt på begge sider, og får dette:\n",
    "![image](Euler 2.png)\n",
    "Ved så å flytte f(x+dt) for seg selv, kommer vi da til målet:\n",
    "![image](Euler 3.png)\n",
    "Siden avstanden mellom hver verdi i matrisen C, er N, og dt er avhengi av N, blir det i løkka f(i+1) når vi skal se på den neste verdien\n",
    "\n",
    "### Konklusjon\n",
    "Vi kom fram til reproduksjonsraten ved å ta en gjennomsnittelig reproduksjonsrate i verden, som vi fant som 0,023. Vi satte denne kraftig ned, da man i et postapokalyptisk samfunn ikke kan forvente en fødselsrate som er så høy.\n",
    "Når vi ser på denne økningen i mennesker, kan vi tydelig se at befolkningen øker veldig fort. Dette er fordi det ikke er noen begrensning for økningen, og heller ingen død med denne modellen. Dette gir modellen veldig mange begrensninger."
   ]
  },
  {
   "cell_type": "code",
   "execution_count": null,
   "metadata": {},
   "outputs": [],
   "source": []
  }
 ],
 "metadata": {
  "kernelspec": {
   "display_name": "Python 3",
   "language": "python",
   "name": "python3"
  },
  "language_info": {
   "codemirror_mode": {
    "name": "ipython",
    "version": 3
   },
   "file_extension": ".py",
   "mimetype": "text/x-python",
   "name": "python",
   "nbconvert_exporter": "python",
   "pygments_lexer": "ipython3",
   "version": "3.6.5"
  }
 },
 "nbformat": 4,
 "nbformat_minor": 2
}
