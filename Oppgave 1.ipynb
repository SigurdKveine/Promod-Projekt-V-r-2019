{
 "cells": [
  {
   "cell_type": "code",
   "execution_count": 1,
   "metadata": {},
   "outputs": [
    {
     "data": {
      "text/plain": [
       "<Figure size 640x480 with 1 Axes>"
      ]
     },
     "metadata": {},
     "output_type": "display_data"
    }
   ],
   "source": [
    "from pylab import*\n",
    "from IPython.display import Image\n",
    "from IPython.core.display import HTML \n",
    "#Tid og steg\n",
    "\n",
    "N = 10000    #Antall ganger løkka skal kjøre\n",
    "tid = 52  #Antall tid i uker\n",
    "dt = tid/N    #Antall uker pr gang løkka kjører\n",
    "\n",
    "\n",
    "\n",
    "#Konstanter\n",
    "\n",
    "a = 0.02 #Fødselrate\n",
    "c0 = 500 #Befolkningen til å starte med\n",
    "t0 = 0 #Startstid\n",
    "p = 0.269 #Innvandringsendringskonstanten\n",
    "\n",
    "#Matriser\n",
    "\n",
    "c = zeros(N)   #Matrise for befolkningen\n",
    "cder = zeros(N)  #Matrise for endring i befolkningen\n",
    "t = zeros(N)    #Matrise for tid\n",
    "\n",
    "#Initialbetingelser \n",
    "\n",
    "c[0] = c0\n",
    "t[0] = t0\n",
    "\n",
    "\n",
    "\n",
    "\n",
    "#Eulers Metode\n",
    "\n",
    "for i in range(N-1):\n",
    "    if t[i]<52:\n",
    "        u = 15-(t[i]*p) #Invandring\n",
    "    else: \n",
    "        u = 1\n",
    "    cder[i] = a*c[i]+u\n",
    "    c[i+1] = c[i] + cder[i]*dt\n",
    "    t[i+1] = t[i]+dt\n",
    "    \n",
    "#Plotting\n",
    "\n",
    "plot(t,c)\n",
    "xlabel(\"Uker\")\n",
    "ylabel(\"Befolkning\")\n",
    "show()"
   ]
  },
  {
   "cell_type": "markdown",
   "metadata": {},
   "source": [
    "### Eulers Metode\n",
    "Vi kommer igjennom dette projektet til å bruke Eurlers metode gjentatte ganger, og derfor skal vi begynne med å gjennomgå teorien bak denne. Vi begynner med å fjerne grenseverdien fra definisjonen av den deriverte, og bytte ut h med dt, som er tidssteget ditt. Da får vi dette :"
   ]
  },
  {
   "cell_type": "code",
   "execution_count": 21,
   "metadata": {},
   "outputs": [
    {
     "data": {
      "image/png": "[encoded data removed]",
      "text/plain": [
       "<IPython.core.display.Image object>"
      ]
     },
     "execution_count": 21,
     "metadata": {
      "image/png": {
       "height": 500,
       "width": 500
      }
     },
     "output_type": "execute_result"
    }
   ],
   "source": [
    "PATH = \"/Users/Sigurd/Desktop/Very scary zombie/\"\n",
    "Image(filename = PATH + \"Euler 1.png\", width=500, height = 500)"
   ]
  },
  {
   "cell_type": "markdown",
   "metadata": {},
   "source": [
    "#### Vi ganger så med dt på begge sider, og får dette:"
   ]
  },
  {
   "cell_type": "code",
   "execution_count": 10,
   "metadata": {
    "scrolled": true
   },
   "outputs": [
    {
     "data": {
      "image/png": "[encoded data removed]",
      "text/plain": [
       "<IPython.core.display.Image object>"
      ]
     },
     "execution_count": 10,
     "metadata": {
      "image/png": {
       "height": 500,
       "width": 500
      }
     },
     "output_type": "execute_result"
    }
   ],
   "source": [
    "PATH = \"/Users/Sigurd/Desktop/Very scary zombie/\"\n",
    "Image(filename = PATH + \"Euler 2.png\", width=500, height = 500)"
   ]
  },
  {
   "cell_type": "markdown",
   "metadata": {},
   "source": [
    "##### Ved så å flytte f(x+dt) for seg selv, kommer vi da til målet:"
   ]
  },
  {
   "cell_type": "code",
   "execution_count": 8,
   "metadata": {},
   "outputs": [
    {
     "data": {
      "image/png": "[encoded data removed]",
      "text/plain": [
       "<IPython.core.display.Image object>"
      ]
     },
     "execution_count": 8,
     "metadata": {
      "image/png": {
       "height": 500,
       "width": 500
      }
     },
     "output_type": "execute_result"
    }
   ],
   "source": [
    "PATH = \"/Users/Sigurd/Desktop/Very scary zombie/\"\n",
    "Image(filename = PATH + \"Euler 3.png\", width=500, height = 500)"
   ]
  },
  {
   "cell_type": "markdown",
   "metadata": {},
   "source": [
    "Siden avstanden mellom hver verdi i matrisen C, er N, og dt er avhengi av N, blir det i løkka f(i+1) når vi skal se på den neste verdien\n",
    "\n",
    "### Konklusjon\n",
    "Vi kom fram til reproduksjonsraten ved å ta en gjennomsnittelig reproduksjonsrate i verden, som vi fant som 0,023. Vi satte denne noe ned, da man i et apokalyptisk samfunn ikke kan forvente en fødselsrate som er så høy.\n",
    "Når vi ser på denne økningen i mennesker, kan vi tydelig se at befolkningen øker veldig fort. Dette er fordi det ikke er noen begrensning for økningen, og heller ingen død med denne modellen. Dette gir modellen veldig mange begrensninger.\n",
    "\n",
    "For å unngå et altfor høy økning i fremtidige oppgaver, gjorde vi slik at invandringen minker i løpet av tiden. Fra et logisk standpunkt vil vi etter hvert gå tom for mennesker rundt Alexandria som kan migrere. Dette løste vi ved å lage innvandringen til en funksjon av tiden, og vi bestemte oss for at vi ønsket at det skulle \"bli slutt på mennesker\" etter et år. Dermed lagde vi funksjonen u = 15-(t[i]*p), der p var en konstant vi satt ved å ta at ved t[i] = 52, skulle u være 1. Else delen er da for å forhindre at du får negativ innvandring, alså utvandring fra Alexandria. "
   ]
  },
  {
   "cell_type": "code",
   "execution_count": null,
   "metadata": {},
   "outputs": [],
   "source": []
  }
 ],
 "metadata": {
  "kernelspec": {
   "display_name": "Python 3",
   "language": "python",
   "name": "python3"
  },
  "language_info": {
   "codemirror_mode": {
    "name": "ipython",
    "version": 3
   },
   "file_extension": ".py",
   "mimetype": "text/x-python",
   "name": "python",
   "nbconvert_exporter": "python",
   "pygments_lexer": "ipython3",
   "version": "3.6.5"
  }
 },
 "nbformat": 4,
 "nbformat_minor": 2
}
