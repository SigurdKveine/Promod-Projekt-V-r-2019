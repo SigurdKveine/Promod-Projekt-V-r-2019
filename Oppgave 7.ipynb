{
 "cells": [
  {
   "cell_type": "code",
   "execution_count": 2,
   "metadata": {},
   "outputs": [
    {
     "data": {
      "image/png": "[encoded data removed]",
      "text/plain": [
       "<Figure size 432x288 with 1 Axes>"
      ]
     },
     "metadata": {},
     "output_type": "display_data"
    }
   ],
   "source": [
    "from pylab import*\n",
    "#Tid og steg\n",
    "\n",
    "N = 10000    #Antall ganger løkka skal kjøre\n",
    "tid = 300 #Antall tid i uker\n",
    "dt = tid/N    #Antall uker pr gang løkka kjører\n",
    "\n",
    "\n",
    "#Konstanter\n",
    "\n",
    "a = 0.02 #Fødselrate\n",
    "b = 1200 #Bæereevnen\n",
    "d =  0.017 #Dødsrate\n",
    "p = 0.269 #Innvandringsendringskonstanten\n",
    "g = 0 #Antall mennesker drept av zombier hver uke\n",
    "k = 0 #Antall zombier drept av mennesker hver uke\n",
    "f = 0.4 #Prosent av mennekser drept som blir til zombier\n",
    "h = 0.0002 #Zombiemøtedrapskonstanten\n",
    "j = 0.00005 #Menneskemøtedrapskonstant\n",
    "m = 70 #Befolkninshjelp\n",
    "t0 = 0 #Startstid\n",
    "c0 = 500 #Befolkningen til å starte med\n",
    "z0 = 45 #Antall zombier til å starte med\n",
    "\n",
    "\n",
    "\n",
    "#Matriser\n",
    "\n",
    "c = zeros(N)   #Matrise for befolkningen\n",
    "cder = zeros(N)  #Matrise for endring i befolkningen\n",
    "t = zeros(N)    #Matrise for tid\n",
    "z = zeros(N)    #Matrise for antall zombier\n",
    "zder = zeros(N) #Matrise for endring av zombier\n",
    "\n",
    "#Initialbetingelser \n",
    "\n",
    "c[0] = c0\n",
    "t[0] = t0\n",
    "z[0] = z0 \n",
    "\n",
    "\n",
    "#Eulers Metode\n",
    "\n",
    "for i in range(N-1):\n",
    "    if t[i]<52:\n",
    "        u = 15-(t[i]*p) #Innvandring\n",
    "    else: \n",
    "        u = 1\n",
    "    g = c[i]*z[i]*h  #Formel for antall mennesker drept\n",
    "    k = z[i]*c[i]*j #Formel for antall zombier drept\n",
    "    if c[i] > b:\n",
    "        cder[i] = (a*c[i])*(1-(c[i]/b)) - d*c[i] - g\n",
    "    else:   \n",
    "        cder[i] = (a*c[i])*(1-(c[i]/b))+u - d*c[i] - g\n",
    "    zder[i] = (f*g) - k\n",
    "    if c[i]<m:\n",
    "        c[i+1] = c[i] + cder[i]*dt + 10\n",
    "    else:\n",
    "        c[i+1] = c[i] + cder[i]*dt\n",
    "    z[i+1] = z[i] + zder[i]*dt\n",
    "    t[i+1] = t[i]+dt\n",
    "    if c[i]<m:\n",
    "        d = 0.01     #Endrer noen konstanter når befolkningen går under 70 mennesker\n",
    "        j = 0.05\n",
    "    else:\n",
    "        d = 0.017    #Stiller konstantene tilbake hvis de kommer over dette antallet\n",
    "        j = 0.00005\n",
    "    \n",
    "#Plotting\n",
    "\n",
    "plot(t,c)\n",
    "plot(t,z)\n",
    "xlabel(\"Uker\")\n",
    "ylabel(\"Befolkning\")\n",
    "show()\n"
   ]
  },
  {
   "cell_type": "markdown",
   "metadata": {},
   "source": [
    "Vi har her valgt en grensen for når Kingdom og Hiltop skal sende hjelp til Alexandria. Denne satte vi til 70. Vi lagde så en test for når befolkningen gikk under denne grensen. Grafen viser at når befolkninen synker under 70, blir det sendt ukentlige forsterkninger, samtidig som zombiene vokser i antall og drapstall. Som resultat får vi en slags trappeform på grafene, ettersom at når befolkningen blir større, vokser også antall drap på zombier i et øyeblikk til det igjen stabeliserer seg mot at zombiene øker i antall og menneskene synker mot under 70."
   ]
  }
 ],
 "metadata": {
  "kernelspec": {
   "display_name": "Python 3",
   "language": "python",
   "name": "python3"
  },
  "language_info": {
   "codemirror_mode": {
    "name": "ipython",
    "version": 3
   },
   "file_extension": ".py",
   "mimetype": "text/x-python",
   "name": "python",
   "nbconvert_exporter": "python",
   "pygments_lexer": "ipython3",
   "version": "3.6.5"
  }
 },
 "nbformat": 4,
 "nbformat_minor": 2
}
