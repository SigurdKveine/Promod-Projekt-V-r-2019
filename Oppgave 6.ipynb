{
 "cells": [
  {
   "cell_type": "markdown",
   "metadata": {},
   "source": [
    "# Oppgave 6 - Alexandria slår tilbake"
   ]
  },
  {
   "cell_type": "code",
   "execution_count": 1,
   "metadata": {},
   "outputs": [
    {
     "data": {
      "text/plain": [
       "<Figure size 640x480 with 1 Axes>"
      ]
     },
     "metadata": {},
     "output_type": "display_data"
    }
   ],
   "source": [
    "from pylab import*\n",
    "#Tid og steg\n",
    "\n",
    "N = 10000    #Antall ganger løkka skal kjøre\n",
    "tid = 156 #Antall tid i uker\n",
    "dt = tid/N    #Antall uker pr gang løkka kjører\n",
    "\n",
    "\n",
    "#Konstanter\n",
    "\n",
    "a = 0.02 #Fødselrate\n",
    "b = 1200 #Bæereevnen\n",
    "d =  0.017 #Dødsrate\n",
    "p = 0.269 #Innvandringsendringskonstanten\n",
    "g = 0 #Antall mennesker drept av zombier hver uke\n",
    "k = 0 #Antall zombier drept av mennesker hver uke\n",
    "f = 0.4 #Prosent av mennekser drept som blir til zombier\n",
    "h = 0.0002 #Zombiemøtedrapskonstanten\n",
    "j = 0.00005 #Menneskemøtedrapskonstant\n",
    "t0 = 0 #Startstid\n",
    "c0 = 500 #Befolkningen til å starte med\n",
    "z0 = 45 #Antall zombier til å starte med\n",
    "\n",
    "\n",
    "#Matriser\n",
    "\n",
    "c = zeros(N)   #Matrise for befolkningen\n",
    "cder = zeros(N)  #Matrise for endring i befolkningen\n",
    "t = zeros(N)    #Matrise for tid\n",
    "z = zeros(N)    #Matrise for antall zombier\n",
    "zder = zeros(N) #Matrise for endring av zombier\n",
    "\n",
    "#Initialbetingelser \n",
    "\n",
    "c[0] = c0\n",
    "t[0] = t0\n",
    "z[0] = z0 \n",
    "\n",
    "\n",
    "#Eulers Metode\n",
    "\n",
    "for i in range(N-1):\n",
    "    if t[i]<52:\n",
    "        u = 15-(t[i]*p) #Innvandring\n",
    "    else: \n",
    "        u = 1\n",
    "    g = c[i]*z[i]*h  #Formel for antall mennesker drept\n",
    "    k = z[i]*c[i]*j #Formel for antall zombier drept\n",
    "    if c[i] < b:\n",
    "        cder[i] = (a*c[i])*(1-(c[i]/b))+u - d*c[i] - g\n",
    "    else:   \n",
    "        cder[i] = (a*c[i])*(1-(c[i]/b)) - d*c[i] - g\n",
    "    zder[i] = (f*g) - k\n",
    "    c[i+1] = c[i] + cder[i]*dt\n",
    "    z[i+1] = z[i] + zder[i]*dt\n",
    "    t[i+1] = t[i]+dt\n",
    "    \n",
    "#Plotting\n",
    "\n",
    "plot(t,c)\n",
    "plot(t,z)\n",
    "xlabel(\"Uker\")\n",
    "ylabel(\"Befolkning\")\n",
    "show()"
   ]
  },
  {
   "cell_type": "markdown",
   "metadata": {},
   "source": [
    "mmd = menneskemøtedrap\n",
    ", zmd = zombiemøtedrap\n",
    "\n",
    "I oppgave 6 får menneskene endelig en sjansje til å slåss tilbake, derfor la vi til den deriverte av zombieantallet hvor også zombier kan bli drept av mennesker. Antall zombier som blir drept blir bestemt av en msd-konstant som bestemmer antall zombier drept av mennesker. msd-konstanten må være lavere enn zmd-konstanten for å unngå at zombiene blir utryddet. Du kan se på grafen at menneskene blir mye mindre i antall etter 2 år. Altså, det vil si at mennesker som kan slåss tilbake vil kunne forsinke når zombiene blir flere, ikke overmanne zombiene. Dette er muligens grunnet faktorene som både trekker ned menneskebestanden og faktorene som trekker opp zombieantallet. I motsetning til andre råvdyr/byttedyr modeller, er ikke antall mennesker som produseres avhengig av antall zombier."
   ]
  },
  {
   "cell_type": "code",
   "execution_count": null,
   "metadata": {},
   "outputs": [],
   "source": []
  },
  {
   "cell_type": "code",
   "execution_count": null,
   "metadata": {},
   "outputs": [],
   "source": []
  }
 ],
 "metadata": {
  "kernelspec": {
   "display_name": "Python 3",
   "language": "python",
   "name": "python3"
  },
  "language_info": {
   "codemirror_mode": {
    "name": "ipython",
    "version": 3
   },
   "file_extension": ".py",
   "mimetype": "text/x-python",
   "name": "python",
   "nbconvert_exporter": "python",
   "pygments_lexer": "ipython3",
   "version": "3.6.5"
  }
 },
 "nbformat": 4,
 "nbformat_minor": 2
}
