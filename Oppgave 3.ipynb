{
 "cells": [
  {
   "cell_type": "markdown",
   "metadata": {},
   "source": [
    "# Oppgave 3"
   ]
  },
  {
   "cell_type": "code",
   "execution_count": 22,
   "metadata": {},
   "outputs": [
    {
     "data": {
      "image/png": "[encoded data removed]",
      "text/plain": [
       "<Figure size 432x288 with 1 Axes>"
      ]
     },
     "metadata": {},
     "output_type": "display_data"
    }
   ],
   "source": [
    "from pylab import*\n",
    "#Tid og steg\n",
    "\n",
    "N = 10000    #Antall ganger løkka skal kjøre\n",
    "tid = 300 #Antall tid i uker\n",
    "dt = tid/N    #Antall uker pr gang løkka kjører\n",
    "t0 = 0 #Startstid\n",
    "\n",
    "#Matriser\n",
    "\n",
    "c = zeros(N)   #Matrise for befolkningen\n",
    "cder = zeros(N)  #Matrise for endring i befolkningen\n",
    "t = zeros(N)    #Matrise for tid\n",
    "\n",
    "#Initialbetingelser \n",
    "\n",
    "c0 = 500 #Befolkningen til å starte med\n",
    "c[0] = c0\n",
    "t[0] = t0\n",
    "\n",
    "\n",
    "#Konstanter\n",
    "\n",
    "a = 0.02 #Fødselrate\n",
    "b = 1200 #Bæereevnen\n",
    "d =  0.017 #Dødsrate\n",
    "p = 0.269 #Innvandringsendringskonstanten\n",
    "\n",
    "#Eulers Metode\n",
    "\n",
    "for i in range(N-1):\n",
    "    if t[i]<52:\n",
    "        u = 15-(t[i]*p) #Invandring\n",
    "    else: \n",
    "        u = 1\n",
    "    if c[i] < b:\n",
    "        cder[i] = (a*c[i])*(1-(c[i]/b))+u - d*c[i]\n",
    "    else:   \n",
    "        cder[i] = (a*c[i])*(1-(c[i]/b)) - d*c[i]\n",
    "    c[i+1] = c[i] + cder[i]*dt\n",
    "    t[i+1] = t[i]+dt\n",
    "    \n",
    "#Plotting\n",
    "\n",
    "plot(t,c)\n",
    "xlabel(\"Uker\")\n",
    "ylabel(\"Befolkning\")\n",
    "show()"
   ]
  },
  {
   "cell_type": "markdown",
   "metadata": {},
   "source": [
    "### Konklusjon \n",
    "Vi fant en global dødsrate som var i overkant av 0,9%. Denne økte vi, da tilgangen til medisinsk hjelp i en apokalyptisk situasjon er kraftig begrenset og flere vil dermed dø av sykdom. Med dette i bakhodet satte vi dødsraten til 1,7%. Man ser på grafen her at befolkningen øker fram til antallet innvandrere blir så små at dødsraten matcher ut fødselsraten, før det går ned og stabiliserer seg rundt 350. "
   ]
  },
  {
   "cell_type": "code",
   "execution_count": null,
   "metadata": {},
   "outputs": [],
   "source": []
  }
 ],
 "metadata": {
  "kernelspec": {
   "display_name": "Python 3",
   "language": "python",
   "name": "python3"
  },
  "language_info": {
   "codemirror_mode": {
    "name": "ipython",
    "version": 3
   },
   "file_extension": ".py",
   "mimetype": "text/x-python",
   "name": "python",
   "nbconvert_exporter": "python",
   "pygments_lexer": "ipython3",
   "version": "3.6.5"
  }
 },
 "nbformat": 4,
 "nbformat_minor": 2
}
