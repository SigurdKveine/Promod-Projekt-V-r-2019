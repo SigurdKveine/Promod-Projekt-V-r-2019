{
 "cells": [
  {
   "cell_type": "markdown",
   "metadata": {},
   "source": [
    "# Zombie apokalypse"
   ]
  },
  {
   "cell_type": "markdown",
   "metadata": {},
   "source": [
    "Vi befinner oss i en postapokalyptisk situasjon der verden har blitt\n",
    "utsatt for et virus som gjør mennesker om til zombier. Viruset\n",
    "smitter kun via blod, f.eks. ved bitt eller kloring fra zombier. Vi\n",
    "skal studere en avsideliggende landsby, Alexandria, som ligger i\n",
    "nærheten av Washington D.C., og som etter et zombie-utbrudd\n",
    "har blitt et tilfluktssted for 500 mennesker. De har tilgang til en\n",
    "del mat og våpen, og de har en mur rundt hele landsbyen som\n",
    "holder zombiene unna. Men de må også ut for å finne nye ressurser\n",
    "og andre mennesker som trenger hjelp, så de er aldri helt trygge."
   ]
  },
  {
   "cell_type": "markdown",
   "metadata": {},
   "source": [
    "## Oppgave 1 "
   ]
  },
  {
   "cell_type": "markdown",
   "metadata": {},
   "source": [
    "Først skal vi se på hvordan populasjonen av mennesker endrer seg i et trygt miljø. Det vil si at vi ikke tar hensyn til dødsfall, enten naturlig eller ved en zombie. I dette tilfellet ser vi på antall mennesker i byen Alexandria, som er en \"Safe zone\", der det eneste som skjer med menneskene er fødsler av nye mennesker og innvandring. Vi forventer derfor en stor økning i antall mennesker."
   ]
  },
  {
   "cell_type": "code",
   "execution_count": null,
   "metadata": {},
   "outputs": [],
   "source": []
  },
  {
   "cell_type": "markdown",
   "metadata": {},
   "source": [
    "## Oppgave 2"
   ]
  },
  {
   "cell_type": "markdown",
   "metadata": {},
   "source": [
    "Alexandria har ikke en ubegrenset mengde med ressurser og plass, så modellen vår er foreløpig litt unøyaktig. Vi innfører derfor\n",
    "en bæreevne som er basert på hvor mye ressurser som fins i Alexandria, og som vil justere veksten av populasjonen med mennesker. \n",
    "Det er fortsatt bare innvandring og fødsler som påvirker veksten, murene i Alexandria holder fortsatt stand mot zombiene, og \n",
    "sykdom og alderdom finnes ikke."
   ]
  },
  {
   "cell_type": "code",
   "execution_count": null,
   "metadata": {},
   "outputs": [],
   "source": []
  },
  {
   "cell_type": "markdown",
   "metadata": {},
   "source": [
    "## Oppgave 3"
   ]
  },
  {
   "cell_type": "markdown",
   "metadata": {},
   "source": [
    "I denne modellen finnes det også andre faktorer som vil begrense veksten til populasjonen. Inntil videre holder fortsatt muren seg sterk, så zombiene er ikke en faktor enda. Nå skal vi se på hvordan naturlig dødsfall påvirker populasjonen, og vil da se nærmere på hvordan dødsfall fra sykdom, alderdom og skader vil begrense veksten. Her går vi utifra at det er liten plass, og at sykdom derfor vil forekomme hyppigere. Samtidig vil det være naturlig å anta at det er liten tilgang på medisiner og leger, siden det jo er en apokalyptisk tilstand."
   ]
  },
  {
   "cell_type": "code",
   "execution_count": null,
   "metadata": {},
   "outputs": [],
   "source": []
  },
  {
   "cell_type": "markdown",
   "metadata": {},
   "source": [
    "## Oppgave 4"
   ]
  },
  {
   "cell_type": "markdown",
   "metadata": {},
   "source": [
    "Nå skal vi se på hvordan zombiepopulasjonen påvirker menneskepopulasjonen, hvis zombiene fungerer som rovdyr. Det vil si at menneskene ikke kan bli smittet, og siden zombiene hverken kan bli drept eller bli flere, vil zombiene forbli samme antall gjennom denne modellen. Dette er dårlig nytt for menneskene, siden de ikke har mulighet til å slå tilbake mot zombiene enda. "
   ]
  },
  {
   "cell_type": "code",
   "execution_count": null,
   "metadata": {},
   "outputs": [],
   "source": []
  },
  {
   "cell_type": "markdown",
   "metadata": {},
   "source": [
    "## Oppgave 5"
   ]
  },
  {
   "cell_type": "markdown",
   "metadata": {},
   "source": [
    "I neste modell gjør vi det enda vanskeligere for menneskene ved at de har mulighet for å bli smittet om de blir bitt av zombiene. Dette vil bidra til å øke zombiepopulasjonen samtidig som den minsker menneskepopulasjonen. Når man møter en zombie blir man ikke nødvendigvis smittet, man kan også dø. Sannsynligheten for dette vil vi forklare i konklusjonen. "
   ]
  },
  {
   "cell_type": "code",
   "execution_count": null,
   "metadata": {},
   "outputs": [],
   "source": []
  },
  {
   "cell_type": "markdown",
   "metadata": {},
   "source": [
    "## Oppgave 6"
   ]
  },
  {
   "cell_type": "markdown",
   "metadata": {},
   "source": [
    "Nå har menneskene klart å skaffe seg våpen, slik at de kan slå tilbake mot zombiene. Dette vil forhåpentligvis gjøre det lettere for menneskene å overleve. For å summere opp er de faktorene som påvirker veksten til menneskene fødsler, innvandring, bæreevne, naturlig dødsfall og zombier som enten dreper eller smitter dem. For zombiene endres veksten av hvor mange mennsker de smitter og hvor mange av dem som blir drept av mennsker. Vi regner fortsatt med at zombiene ikke dør av andre årsaker enda."
   ]
  },
  {
   "cell_type": "code",
   "execution_count": null,
   "metadata": {},
   "outputs": [],
   "source": []
  },
  {
   "cell_type": "markdown",
   "metadata": {},
   "source": [
    "## Oppgave 7"
   ]
  },
  {
   "cell_type": "markdown",
   "metadata": {},
   "source": [
    "I den siste modellen vil vi se på hva som skjer om Alexandria får forsterkninger av to nærliggende landsbyer: Kingdom og Hilltop. Forsterkninger vil komme i form av personer med våpen, våpen og medisiner. Personene vil bidra direkte med å øke menneske populasjonen, og sammen med våpnene vil de også bidra til å minske zombie populasjonen. Medisinene vil bidra til å redusere de naturlige dødsfallene."
   ]
  },
  {
   "cell_type": "code",
   "execution_count": null,
   "metadata": {},
   "outputs": [],
   "source": []
  }
 ],
 "metadata": {
  "kernelspec": {
   "display_name": "Python 3",
   "language": "python",
   "name": "python3"
  },
  "language_info": {
   "codemirror_mode": {
    "name": "ipython",
    "version": 3
   },
   "file_extension": ".py",
   "mimetype": "text/x-python",
   "name": "python",
   "nbconvert_exporter": "python",
   "pygments_lexer": "ipython3",
   "version": "3.6.5"
  }
 },
 "nbformat": 4,
 "nbformat_minor": 2
}
