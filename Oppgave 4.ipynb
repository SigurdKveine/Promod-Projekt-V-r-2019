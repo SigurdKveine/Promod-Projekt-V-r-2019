{
 "cells": [
  {
   "cell_type": "markdown",
   "metadata": {},
   "source": [
    "# Oppgave 4"
   ]
  },
  {
   "cell_type": "code",
   "execution_count": 19,
   "metadata": {
    "scrolled": false
   },
   "outputs": [
    {
     "data": {
      "image/png": "[encoded data removed]",
      "text/plain": [
       "<Figure size 432x288 with 1 Axes>"
      ]
     },
     "metadata": {},
     "output_type": "display_data"
    }
   ],
   "source": [
    "from pylab import*\n",
    "#Tid og steg\n",
    "\n",
    "N = 10000    #Antall ganger løkka skal kjøre\n",
    "tid = 104 #Antall tid i uker\n",
    "dt = tid/N    #Antall uker pr gang løkka kjører\n",
    "\n",
    "\n",
    "#Konstanter\n",
    "\n",
    "a = 0.02 #Fødselrate\n",
    "b = 1200 #Bæereevnen\n",
    "d =  0.017 #Dødsrate\n",
    "p = 0.269 #Innvandringsendringskonstanten\n",
    "g = 0 #Antall mennesker drept av zombier hver måned\n",
    "f = 0.4 #Prosent av mennekser drept som blir til zombier\n",
    "h = 0.0002 #Zombiemøtedrapskonstanten\n",
    "t0 = 0 #Startstid\n",
    "c0 = 500 #Befolkningen til å starte med\n",
    "z0 = 45 #Antall zombier til å starte med\n",
    "\n",
    "\n",
    "#Matriser\n",
    "\n",
    "c = zeros(N)   #Matrise for befolkningen\n",
    "cder = zeros(N)  #Matrise for endring i befolkningen\n",
    "t = zeros(N)    #Matrise for tid\n",
    "z = zeros(N)    #Matrise for antall zombier\n",
    "\n",
    "#Initialbetingelser \n",
    "\n",
    "c[0] = c0\n",
    "t[0] = t0\n",
    "z[0] = z0 \n",
    "\n",
    "\n",
    "#Eulers Metode\n",
    "\n",
    "for i in range(N-1):\n",
    "    if t[i]<52:\n",
    "        u = 15-(t[i]*p) #Invandring\n",
    "    else: \n",
    "        u = 1\n",
    "    g = c[i]*z[i]*h  #Formel for antall mennesker drept\n",
    "    if c[i] < b:\n",
    "        cder[i] = (a*c[i])*(1-(c[i]/b))+u - d*c[i] - g\n",
    "    else:   \n",
    "        cder[i] = (a*c[i])*(1-(c[i]/b)) - d*c[i] - g\n",
    "    c[i+1] = c[i] + cder[i]*dt\n",
    "    t[i+1] = t[i]+dt\n",
    "    z[i+1] = z[i]\n",
    "    \n",
    "#Plotting\n",
    "\n",
    "plot(t,c)\n",
    "plot(t,z)\n",
    "xlabel(\"Uker\")\n",
    "ylabel(\"Befolkning\")\n",
    "show()"
   ]
  },
  {
   "cell_type": "markdown",
   "metadata": {},
   "source": [
    "Vi har satt antall zombier til å starte med på 45, for å unngå at menneskene blir overmannet av zombiene med en gang. Vi har så satt formelen for antall drept til: \n",
    "![image](Formel til oppgave 5.png)\n",
    "Vi prøde oss fram med ulike verdier for h, og kom fram til at 0,0002 var en fin verdi.Vi må til senere tilfeller være oppmerksommme på at hvis zombiene blir utryddet, trenger vi en spesifikk kode til dette, men siden vi i denne og senere oppgaver unngår at zombiene blir uttryddet, slipper vi å tenke på dette-. Denne konstanten er lagt inn i løkka, slik at den oppdateres for hver gang.\n",
    "Vi ser på grafen at mennesker stiger til de når et punkt hvor innvandringen blir lav nok, til at zombiene dreper flere enn det som fødes. Vi ser så at mennesker stabiliserer seg, på et punkt hvor menneskene klarer å produsere nok avkom til å holde arten stabil, tross død. "
   ]
  },
  {
   "cell_type": "code",
   "execution_count": null,
   "metadata": {},
   "outputs": [],
   "source": []
  }
 ],
 "metadata": {
  "kernelspec": {
   "display_name": "Python 3",
   "language": "python",
   "name": "python3"
  },
  "language_info": {
   "codemirror_mode": {
    "name": "ipython",
    "version": 3
   },
   "file_extension": ".py",
   "mimetype": "text/x-python",
   "name": "python",
   "nbconvert_exporter": "python",
   "pygments_lexer": "ipython3",
   "version": "3.6.5"
  }
 },
 "nbformat": 4,
 "nbformat_minor": 2
}
